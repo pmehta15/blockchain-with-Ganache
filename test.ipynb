{
 "cells": [
  {
   "cell_type": "code",
   "execution_count": 22,
   "id": "ad78d842-d5e3-4fa7-9531-889eaadb76a1",
   "metadata": {
    "tags": []
   },
   "outputs": [],
   "source": [
    "import os\n",
    "import requests\n",
    "from dotenv import load_dotenv\n",
    "\n",
    "from bip44 import Wallet\n",
    "from web3 import Account\n",
    "from web3 import middleware\n",
    "from web3.gas_strategies.time_based import medium_gas_price_strategy\n",
    "import streamlit as st\n",
    "from dataclasses import dataclass\n",
    "from typing import Any, List\n",
    "from web3 import Web3\n",
    "################################################################################\n",
    "# Wallet functionality"
   ]
  },
  {
   "cell_type": "code",
   "execution_count": 23,
   "id": "d083e2c8-2ae7-43d8-a31e-daa0b1e133d4",
   "metadata": {
    "tags": []
   },
   "outputs": [],
   "source": [
    "w3 = Web3(Web3.HTTPProvider(\"HTTP://127.0.0.1:7545\"))"
   ]
  },
  {
   "cell_type": "code",
   "execution_count": 11,
   "id": "1f947049-f2ac-440b-9ce9-27ad3582af79",
   "metadata": {
    "tags": []
   },
   "outputs": [
    {
     "data": {
      "text/plain": [
       "True"
      ]
     },
     "execution_count": 11,
     "metadata": {},
     "output_type": "execute_result"
    }
   ],
   "source": [
    "load_dotenv()"
   ]
  },
  {
   "cell_type": "code",
   "execution_count": 13,
   "id": "b0c9655e-76d9-44bd-89fa-6745f45cdc69",
   "metadata": {
    "tags": []
   },
   "outputs": [],
   "source": [
    "def generate_account():\n",
    "    \"\"\"Create a digital wallet and Ethereum account from a mnemonic seed phrase.\"\"\"\n",
    "    # Fetch mnemonic from environment variable.\n",
    "    mnemonic = os.getenv(\"MNEMONIC\")\n",
    "\n",
    "    # Create Wallet Object\n",
    "    wallet = Wallet(mnemonic)\n",
    "\n",
    "    # Derive Ethereum Private Key\n",
    "    private, public = wallet.derive_account(\"eth\")\n",
    "\n",
    "    # Convert private key into an Ethereum account\n",
    "    account = Account.privateKeyToAccount(private)\n",
    "\n",
    "    return account"
   ]
  },
  {
   "cell_type": "code",
   "execution_count": 12,
   "id": "3184f28f-e8ed-40f4-afc6-5bc045fa97b4",
   "metadata": {
    "tags": []
   },
   "outputs": [
    {
     "data": {
      "text/plain": [
       "'crunch assume curious moon immense dinosaur pelican miracle paddle guitar act essay'"
      ]
     },
     "execution_count": 12,
     "metadata": {},
     "output_type": "execute_result"
    }
   ],
   "source": [
    "os.getenv(\"MNEMONIC\")"
   ]
  },
  {
   "cell_type": "code",
   "execution_count": 15,
   "id": "6012b199-c30f-4029-bb00-ea7047cead2b",
   "metadata": {
    "tags": []
   },
   "outputs": [],
   "source": [
    "wallet = Wallet(os.getenv(\"MNEMONIC\"))"
   ]
  },
  {
   "cell_type": "code",
   "execution_count": 16,
   "id": "d9935865-1414-465e-b4ef-a2f7bb6d2cbe",
   "metadata": {
    "tags": []
   },
   "outputs": [
    {
     "data": {
      "text/plain": [
       "<bip44.wallet.Wallet at 0x1129cd1d0>"
      ]
     },
     "execution_count": 16,
     "metadata": {},
     "output_type": "execute_result"
    }
   ],
   "source": [
    "wallet"
   ]
  },
  {
   "cell_type": "code",
   "execution_count": 17,
   "id": "6df62f08-983c-4adc-b753-0d6ca86a9ae4",
   "metadata": {
    "tags": []
   },
   "outputs": [],
   "source": [
    "private, public = wallet.derive_account(\"eth\")"
   ]
  },
  {
   "cell_type": "code",
   "execution_count": 18,
   "id": "2a0c760a-04da-4090-ac99-3f27ebf19585",
   "metadata": {
    "tags": []
   },
   "outputs": [
    {
     "data": {
      "text/plain": [
       "b'\\x03\\x80\\xe69\\x1d/\\x1e\\x81\\xbf\\xd7\\r\\xa0\\xc4\\xaf^\\x80\\xa12\\xfbt49\\xbcZyi\\xdd\\x03m\\x9c\\xef\\xa4'"
      ]
     },
     "execution_count": 18,
     "metadata": {},
     "output_type": "execute_result"
    }
   ],
   "source": [
    "private"
   ]
  },
  {
   "cell_type": "code",
   "execution_count": 19,
   "id": "c473abeb-00fa-4108-aa26-4c43b3e35ebd",
   "metadata": {
    "tags": []
   },
   "outputs": [
    {
     "data": {
      "text/plain": [
       "b'\\x02`\\x15 Nr~/=\\x14\\xf8\\xba\\x02\\xea\\x08\\r\\x01j\\xfb\\xdeE\\xc2y\\xb3\\xe4\\xee`\\xbf\\x02qR\\xb3\\xa0'"
      ]
     },
     "execution_count": 19,
     "metadata": {},
     "output_type": "execute_result"
    }
   ],
   "source": [
    "public"
   ]
  },
  {
   "cell_type": "code",
   "execution_count": 24,
   "id": "2f89550f-575b-4e33-8f75-1dff2ae14f68",
   "metadata": {
    "tags": []
   },
   "outputs": [],
   "source": [
    "account = Account.from_key(private)"
   ]
  },
  {
   "cell_type": "code",
   "execution_count": 26,
   "id": "7e9620cd-825e-41a8-b481-b789ae48d1a7",
   "metadata": {
    "tags": []
   },
   "outputs": [],
   "source": [
    "from crypto_wallet import get_balance"
   ]
  },
  {
   "cell_type": "code",
   "execution_count": 27,
   "id": "ccfa802b-1877-43c7-8b65-bceb33f27220",
   "metadata": {
    "tags": []
   },
   "outputs": [
    {
     "ename": "AttributeError",
     "evalue": "'Web3' object has no attribute 'fromWei'",
     "output_type": "error",
     "traceback": [
      "\u001b[0;31m---------------------------------------------------------------------------\u001b[0m",
      "\u001b[0;31mAttributeError\u001b[0m                            Traceback (most recent call last)",
      "Cell \u001b[0;32mIn[27], line 1\u001b[0m\n\u001b[0;32m----> 1\u001b[0m get_balance(w3,account\u001b[38;5;241m.\u001b[39maddress)\n",
      "File \u001b[0;32m~/Desktop/module 19/crypto_wallet.py:48\u001b[0m, in \u001b[0;36mget_balance\u001b[0;34m(w3, address)\u001b[0m\n\u001b[1;32m     45\u001b[0m wei_balance \u001b[38;5;241m=\u001b[39m w3\u001b[38;5;241m.\u001b[39meth\u001b[38;5;241m.\u001b[39mget_balance(address)\n\u001b[1;32m     47\u001b[0m \u001b[38;5;66;03m# Convert Wei value to ether\u001b[39;00m\n\u001b[0;32m---> 48\u001b[0m ether \u001b[38;5;241m=\u001b[39m w3\u001b[38;5;241m.\u001b[39mfromWei(wei_balance, \u001b[38;5;124m\"\u001b[39m\u001b[38;5;124mether\u001b[39m\u001b[38;5;124m\"\u001b[39m)\n\u001b[1;32m     50\u001b[0m \u001b[38;5;66;03m# Return the value in ether\u001b[39;00m\n\u001b[1;32m     51\u001b[0m \u001b[38;5;28;01mreturn\u001b[39;00m ether\n",
      "\u001b[0;31mAttributeError\u001b[0m: 'Web3' object has no attribute 'fromWei'"
     ]
    }
   ],
   "source": [
    "get_balance(w3,account.address)"
   ]
  },
  {
   "cell_type": "code",
   "execution_count": null,
   "id": "398409f3-3fcf-4e27-a60c-454b77fdf851",
   "metadata": {},
   "outputs": [],
   "source": [
    "w3.eth."
   ]
  }
 ],
 "metadata": {
  "kernelspec": {
   "display_name": "Python 3 (ipykernel)",
   "language": "python",
   "name": "python3"
  },
  "language_info": {
   "codemirror_mode": {
    "name": "ipython",
    "version": 3
   },
   "file_extension": ".py",
   "mimetype": "text/x-python",
   "name": "python",
   "nbconvert_exporter": "python",
   "pygments_lexer": "ipython3",
   "version": "3.11.5"
  }
 },
 "nbformat": 4,
 "nbformat_minor": 5
}
